{
 "cells": [
  {
   "cell_type": "markdown",
   "id": "9a0dfbb2cbca2c7a",
   "metadata": {},
   "source": [
    "## 0. Summary\n",
    "- 목적: 문서(JSONL)를 읽고 → 문서를 청크로 분할 → 임베딩 후 벡터DB(Chroma)에 저장 → 평가용 대화 로그에서 과학 상식 관련 여부 판별 → 독립 질의(standalone query) 생성 → 유사 문서 검색 → 답변 생성까지 파이프라인 구축\n",
    "- 주요 구성:\n",
    "  1) 데이터 로딩/스키마 변환\n",
    "  2) 텍스트 청크 분할\n",
    "  3) 임베딩 및 벡터스토어 구축(Chroma)\n",
    "  4) 평가 대화 로딩 및 전처리\n",
    "  5) 과학 상식 판별 체인\n",
    "  6) Standalone Query 생성 체인\n",
    "  7) Retriever로 관련 문서 검색\n",
    "  8) 판별-검색-생성 통합 파이프라인\n"
   ]
  },
  {
   "cell_type": "markdown",
   "id": "5d750d076d0ea268",
   "metadata": {},
   "source": [
    "## 1. 문서 읽기\n",
    "- documents.jsonl, eval.jsonl을 읽어 샘플 구조 확인 및 파이썬 dict 리스트로 적재\n",
    "- LangChain Document로 변환하여 page_content와 metadata(doc_id, source, 길이 등) 구성\n",
    "- 최대 문서 길이 등 간단한 통계 확인\n"
   ]
  },
  {
   "cell_type": "code",
   "execution_count": 1,
   "id": "c019edb457f2538a",
   "metadata": {
    "ExecuteTime": {
     "end_time": "2025-09-12T05:31:20.858088Z",
     "start_time": "2025-09-12T05:31:20.855607Z"
    }
   },
   "outputs": [],
   "source": [
    "import json\n",
    "from pathlib import Path\n",
    "\n",
    "\n",
    "# 데이터 디렉터리와 입력 파일 경로 설정\n",
    "DIR_DATA = Path(\"../../data\")\n",
    "DOCUMENT_PATH = DIR_DATA / \"documents.jsonl\"\n",
    "EVAL_PATH = DIR_DATA / \"eval.jsonl\""
   ]
  },
  {
   "cell_type": "code",
   "execution_count": 2,
   "id": "701425e5f39290fc",
   "metadata": {
    "ExecuteTime": {
     "end_time": "2025-09-12T05:31:20.877685Z",
     "start_time": "2025-09-12T05:31:20.872488Z"
    }
   },
   "outputs": [
    {
     "name": "stdout",
     "output_type": "stream",
     "text": [
      "keys: dict_keys(['docid', 'src', 'content'])\n"
     ]
    },
    {
     "data": {
      "text/plain": [
       "{'docid': '42508ee0-c543-4338-878e-d98c6babee66',\n",
       " 'src': 'ko_mmlu__nutrition__test',\n",
       " 'content': '건강한 사람이 에너지 균형을 평형 상태로 유지하는 것은 중요합니다. 에너지 균형은 에너지 섭취와 에너지 소비의 수학적 동등성을 의미합니다. 일반적으로 건강한 사람은 1-2주의 기간 동안 에너지 균형을 달성합니다. 이 기간 동안에는 올바른 식단과 적절한 운동을 통해 에너지 섭취와 에너지 소비를 조절해야 합니다. 식단은 영양가 있는 식품을 포함하고, 적절한 칼로리를 섭취해야 합니다. 또한, 운동은 에너지 소비를 촉진시키고 근육을 강화시킵니다. 이렇게 에너지 균형을 유지하면 건강을 유지하고 비만이나 영양 실조와 같은 문제를 예방할 수 있습니다. 따라서 건강한 사람은 에너지 균형을 평형 상태로 유지하는 것이 중요하며, 이를 위해 1-2주의 기간 동안 식단과 운동을 조절해야 합니다.'}"
      ]
     },
     "jetTransient": {
      "display_id": null
     },
     "metadata": {},
     "output_type": "display_data"
    },
    {
     "name": "stdout",
     "output_type": "stream",
     "text": [
      "====================\n",
      "keys: dict_keys(['eval_id', 'msg'])\n"
     ]
    },
    {
     "data": {
      "text/plain": [
       "{'eval_id': 78,\n",
       " 'msg': [{'role': 'user', 'content': '나무의 분류에 대해 조사해 보기 위한 방법은?'}]}"
      ]
     },
     "jetTransient": {
      "display_id": null
     },
     "metadata": {},
     "output_type": "display_data"
    }
   ],
   "source": [
    "def check_documents_file(filepath: Path):\n",
    "    # JSONL 파일에서 첫 라인만 읽어 필드 구조(키 목록)와 예시를 확인\n",
    "    with filepath.open() as f:\n",
    "        for line in f:\n",
    "            doc_json = json.loads(line)\n",
    "            print(\"keys:\", doc_json.keys())  # 필드 키 확인\n",
    "            display(doc_json)  # 예시 한 건 출력\n",
    "            break\n",
    "\n",
    "\n",
    "# 샘플 프리뷰: 문서 파일과 평가 파일 각각 1건씩 확인\n",
    "check_documents_file(DOCUMENT_PATH)\n",
    "print(\"=\" * 20)\n",
    "check_documents_file(EVAL_PATH)"
   ]
  },
  {
   "cell_type": "code",
   "execution_count": 3,
   "id": "fc118fab94f84686",
   "metadata": {
    "ExecuteTime": {
     "end_time": "2025-09-12T05:31:20.942757Z",
     "start_time": "2025-09-12T05:31:20.941012Z"
    }
   },
   "outputs": [],
   "source": [
    "def load_from_json(filepath: Path) -> list[dict]:\n",
    "    # JSONL 파일을 줄 단위로 읽어 파이썬 dict 리스트로 변환\n",
    "    with filepath.open() as f:\n",
    "        return [json.loads(line.strip()) for line in f]"
   ]
  },
  {
   "cell_type": "code",
   "execution_count": 4,
   "id": "e488c5384cee9b19",
   "metadata": {
    "ExecuteTime": {
     "end_time": "2025-09-12T05:31:21.052793Z",
     "start_time": "2025-09-12T05:31:20.965439Z"
    }
   },
   "outputs": [
    {
     "name": "stdout",
     "output_type": "stream",
     "text": [
      "total documents: 4272\n",
      "page_content='건강한 사람이 에너지 균형을 평형 상태로 유지하는 것은 중요합니다. 에너지 균형은 에너지 섭취와 에너지 소비의 수학적 동등성을 의미합니다. 일반적으로 건강한 사람은 1-2주의 기간 동안 에너지 균형을 달성합니다. 이 기간 동안에는 올바른 식단과 적절한 운동을 통해 에너지 섭취와 에너지 소비를 조절해야 합니다. 식단은 영양가 있는 식품을 포함하고, 적절한 칼로리를 섭취해야 합니다. 또한, 운동은 에너지 소비를 촉진시키고 근육을 강화시킵니다. 이렇게 에너지 균형을 유지하면 건강을 유지하고 비만이나 영양 실조와 같은 문제를 예방할 수 있습니다. 따라서 건강한 사람은 에너지 균형을 평형 상태로 유지하는 것이 중요하며, 이를 위해 1-2주의 기간 동안 식단과 운동을 조절해야 합니다.' metadata={'doc_id': '42508ee0-c543-4338-878e-d98c6babee66', 'source': 'ko_mmlu__nutrition__test', 'len': 381}\n"
     ]
    }
   ],
   "source": [
    "from langchain_core.documents import Document\n",
    "\n",
    "\n",
    "def load_documents(filepath: Path) -> list[Document]:\n",
    "    \"\"\"filepath 로 부터 jsonl 을 읽어서 Document list 만들기\"\"\"\n",
    "    # raw dict를 LangChain Document로 변환\n",
    "    documents = [\n",
    "        Document(\n",
    "            page_content=raw_document[\"content\"],  # 본문\n",
    "            metadata={\n",
    "                \"doc_id\": raw_document[\"docid\"],  # 문서 식별자\n",
    "                \"source\": raw_document[\"src\"],  # 출처\n",
    "                \"len\": len(raw_document[\"content\"]),  # 본문 길이(문자 수)\n",
    "            },\n",
    "        )\n",
    "        for raw_document in load_from_json(filepath)\n",
    "    ]\n",
    "    return documents\n",
    "\n",
    "\n",
    "# 문서 로딩 및 간단 출력\n",
    "docs = load_documents(DOCUMENT_PATH)\n",
    "print(\"total documents:\", len(docs))\n",
    "print(docs[0])"
   ]
  },
  {
   "cell_type": "code",
   "execution_count": 5,
   "id": "673bac90d19f1420",
   "metadata": {
    "ExecuteTime": {
     "end_time": "2025-09-12T05:31:21.059464Z",
     "start_time": "2025-09-12T05:31:21.057675Z"
    }
   },
   "outputs": [
    {
     "name": "stdout",
     "output_type": "stream",
     "text": [
      "가장 긴 문서의 길이: 1230\n"
     ]
    }
   ],
   "source": [
    "# 로드된 문서들 중 가장 긴 본문 길이 확인\n",
    "print(\"가장 긴 문서의 길이:\", max([doc.metadata[\"len\"] for doc in docs]))"
   ]
  },
  {
   "cell_type": "markdown",
   "id": "4303c15f6b141f8",
   "metadata": {},
   "source": [
    "## 2. 문서 나누기\n",
    "- 긴 문서를 검색 친화적으로 만들기 위해 고정 길이(chunk_size=512, overlap=256)로 분할\n",
    "- 분할된 각 청크에 원본 metadata를 복사하고, 추가로 chunk_id, total_chunks, len(청크 길이) 부여\n",
    "- 분할 이후 최대 청크 길이와 샘플 확인\n"
   ]
  },
  {
   "cell_type": "code",
   "execution_count": 6,
   "id": "e957169991155318",
   "metadata": {
    "ExecuteTime": {
     "end_time": "2025-09-12T05:31:21.357831Z",
     "start_time": "2025-09-12T05:31:21.070902Z"
    }
   },
   "outputs": [
    {
     "name": "stdout",
     "output_type": "stream",
     "text": [
      "total split documents: 4480\n",
      "page_content='건강한 사람이 에너지 균형을 평형 상태로 유지하는 것은 중요합니다. 에너지 균형은 에너지 섭취와 에너지 소비의 수학적 동등성을 의미합니다. 일반적으로 건강한 사람은 1-2주의 기간 동안 에너지 균형을 달성합니다. 이 기간 동안에는 올바른 식단과 적절한 운동을 통해 에너지 섭취와 에너지 소비를 조절해야 합니다. 식단은 영양가 있는 식품을 포함하고, 적절한 칼로리를 섭취해야 합니다. 또한, 운동은 에너지 소비를 촉진시키고 근육을 강화시킵니다. 이렇게 에너지 균형을 유지하면 건강을 유지하고 비만이나 영양 실조와 같은 문제를 예방할 수 있습니다. 따라서 건강한 사람은 에너지 균형을 평형 상태로 유지하는 것이 중요하며, 이를 위해 1-2주의 기간 동안 식단과 운동을 조절해야 합니다.' metadata={'doc_id': '42508ee0-c543-4338-878e-d98c6babee66', 'source': 'ko_mmlu__nutrition__test', 'len': 381, 'chunk_id': 0, 'total_chunks': 1}\n",
      "가장 긴 문서의 길이: 512\n"
     ]
    }
   ],
   "source": [
    "from langchain_core.documents import Document  # 재확인(가독성)\n",
    "from langchain_text_splitters import RecursiveCharacterTextSplitter\n",
    "\n",
    "\n",
    "def split_document(documents: list[Document]) -> list[Document]:\n",
    "    \"\"\"문서를 적절히 chunking 하기\"\"\"\n",
    "    total_documents = []\n",
    "    splitter = RecursiveCharacterTextSplitter(\n",
    "        chunk_size=512,  # 각 청크 최대 길이\n",
    "        chunk_overlap=256,  # 청크 간 겹침 길이(문맥 유지)\n",
    "    )\n",
    "    for document in documents:\n",
    "        chunks = splitter.split_text(document.page_content)\n",
    "        total_chunks = len(chunks)\n",
    "        # 각 청크를 독립 Document로 변환(검색/RAG용)\n",
    "        chunked_documents = [\n",
    "            Document(\n",
    "                page_content=chunk,\n",
    "                metadata={\n",
    "                    **document.metadata,\n",
    "                    \"len\": len(chunk),  # 청크 길이\n",
    "                    \"chunk_id\": idx,  # 청크 인덱스\n",
    "                    \"total_chunks\": total_chunks,\n",
    "                },\n",
    "            )\n",
    "            for idx, chunk in enumerate(chunks)\n",
    "        ]\n",
    "        total_documents.extend(chunked_documents)\n",
    "    return total_documents\n",
    "\n",
    "\n",
    "# 분할 실행 및 요약 출력\n",
    "split_docs = split_document(docs)\n",
    "print(\"total split documents:\", len(split_docs))\n",
    "print(split_docs[0])\n",
    "print(\"가장 긴 문서의 길이:\", max([doc.metadata[\"len\"] for doc in split_docs]))"
   ]
  },
  {
   "cell_type": "markdown",
   "id": "26442a79ff53c2c9",
   "metadata": {},
   "source": [
    "## 3. 문서를 Vector DB 에 저장하기\n",
    "- 임베딩 백엔드 선택(예: Ollama/OpenAI/Upstage/HuggingFace) → 임베딩 객체 생성\n",
    "- 벡터스토어(Chroma) 인스턴스화, 컬렉션 이름 지정\n",
    "- 분할 문서를 임베딩하여 벡터스토어에 적재\n"
   ]
  },
  {
   "cell_type": "code",
   "execution_count": 7,
   "id": "1b052065842fdd2c",
   "metadata": {
    "ExecuteTime": {
     "end_time": "2025-09-12T05:31:22.307695Z",
     "start_time": "2025-09-12T05:31:21.370121Z"
    }
   },
   "outputs": [
    {
     "name": "stderr",
     "output_type": "stream",
     "text": [
      "/Users/joyuiyeong/projects/upstageailab-ir-competition-ir-5/.venv/lib/python3.12/site-packages/tqdm/auto.py:21: TqdmWarning: IProgress not found. Please update jupyter and ipywidgets. See https://ipywidgets.readthedocs.io/en/stable/user_install.html\n",
      "  from .autonotebook import tqdm as notebook_tqdm\n"
     ]
    },
    {
     "data": {
      "text/plain": [
       "OllamaEmbeddings(model='bge-large:335m', validate_model_on_init=False, base_url=None, client_kwargs={}, async_client_kwargs={}, sync_client_kwargs={}, mirostat=None, mirostat_eta=None, mirostat_tau=None, num_ctx=None, num_gpu=None, keep_alive=None, num_thread=None, repeat_last_n=None, repeat_penalty=None, temperature=None, stop=None, tfs_z=None, top_k=None, top_p=None)"
      ]
     },
     "execution_count": 7,
     "metadata": {},
     "output_type": "execute_result"
    }
   ],
   "source": [
    "from enum import Enum\n",
    "\n",
    "from langchain_core.embeddings import Embeddings\n",
    "\n",
    "\n",
    "class Platform(str, Enum):\n",
    "    OLLAMA = \"ollama\"\n",
    "    OPENAI = \"openai\"\n",
    "    UPSTAGE = \"upstage\"\n",
    "    HUGGINGFACE = \"huggingface\"\n",
    "\n",
    "\n",
    "def get_embeddings(platform: Platform, model: str) -> Embeddings:\n",
    "    \"\"\"platform 별 Embeddings 반환\"\"\"\n",
    "    # 선택한 플랫폼별 임베딩 클래스 로딩\n",
    "    if platform == Platform.OLLAMA:\n",
    "        from langchain_ollama import OllamaEmbeddings\n",
    "\n",
    "        return OllamaEmbeddings(model=model)\n",
    "    if platform == Platform.OPENAI:\n",
    "        from langchain_openai import OpenAIEmbeddings\n",
    "\n",
    "        return OpenAIEmbeddings(model=model)\n",
    "    if platform == Platform.UPSTAGE:\n",
    "        from langchain_upstage import UpstageEmbeddings\n",
    "\n",
    "        return UpstageEmbeddings(model=model)\n",
    "    if platform == Platform.HUGGINGFACE:\n",
    "        from langchain_huggingface import HuggingFaceEmbeddings\n",
    "\n",
    "        return HuggingFaceEmbeddings(model=model)\n",
    "    raise ValueError(f\"unknown platform: {platform}\")\n",
    "\n",
    "\n",
    "# 예시: Ollama 기반 bge 계열 임베딩 선택\n",
    "ollama_embeddings = get_embeddings(Platform.OLLAMA, model=\"bge-large:335m\")\n",
    "ollama_embeddings"
   ]
  },
  {
   "cell_type": "code",
   "execution_count": 8,
   "id": "45174bd843b038a",
   "metadata": {
    "ExecuteTime": {
     "end_time": "2025-09-12T05:31:23.456821Z",
     "start_time": "2025-09-12T05:31:22.349978Z"
    }
   },
   "outputs": [],
   "source": [
    "from langchain_chroma import Chroma\n",
    "from langchain_core.vectorstores import VectorStore\n",
    "\n",
    "\n",
    "class VectorStoreType(str, Enum):\n",
    "    CHROMA = \"chroma\"\n",
    "\n",
    "\n",
    "def make_chroma_vector_store(embeddings: Embeddings) -> Chroma:\n",
    "    # 메모리(또는 기본 로컬) 기반 Chroma 인스턴스 생성\n",
    "    return Chroma(\n",
    "        embedding_function=embeddings,\n",
    "        collection_name=\"science_common_knowledge\",  # 컬렉션 이름\n",
    "    )\n",
    "\n",
    "\n",
    "def make_vector_store(vector_store_type: VectorStoreType, embeddings: Embeddings) -> VectorStore:\n",
    "    if vector_store_type == VectorStoreType.CHROMA:\n",
    "        return make_chroma_vector_store(embeddings)\n",
    "    raise ValueError(f\"unknown vector_store_type: {vector_store_type}\")"
   ]
  },
  {
   "cell_type": "code",
   "execution_count": 9,
   "id": "a2a0803c27a69167",
   "metadata": {
    "ExecuteTime": {
     "end_time": "2025-09-12T05:31:23.522330Z",
     "start_time": "2025-09-12T05:31:23.465866Z"
    }
   },
   "outputs": [
    {
     "data": {
      "text/plain": [
       "<langchain_chroma.vectorstores.Chroma at 0x127587770>"
      ]
     },
     "execution_count": 9,
     "metadata": {},
     "output_type": "execute_result"
    }
   ],
   "source": [
    "# 벡터스토어 생성(Chroma) 및 객체 확인\n",
    "vector_store = make_vector_store(VectorStoreType.CHROMA, ollama_embeddings)\n",
    "vector_store"
   ]
  },
  {
   "cell_type": "code",
   "execution_count": null,
   "id": "5aa1768ebd004801",
   "metadata": {
    "ExecuteTime": {
     "start_time": "2025-09-12T05:31:23.532172Z"
    },
    "jupyter": {
     "is_executing": true
    }
   },
   "outputs": [],
   "source": [
    "# 분할 문서를 임베딩하여 벡터스토어에 적재\n",
    "vector_store.add_documents(split_docs)"
   ]
  },
  {
   "cell_type": "markdown",
   "id": "6d775db63d577f58",
   "metadata": {},
   "source": [
    "## 4. evaluation chat 에서 standalone query 를 찾기\n",
    "- 평가용 대화 로그(eval.jsonl)를 LangChain 메시지 객체(HumanMessage/AIMessage) 시퀀스로 변환\n",
    "- ChatOllama 등 LLM 인스턴스 준비\n",
    "- 이후 단계에서 과학 상식 판별/Standalone Query 생성을 위해 대화 히스토리와 마지막 질문을 구조화\n"
   ]
  },
  {
   "cell_type": "code",
   "execution_count": null,
   "id": "b1f4dd33baa292a9",
   "metadata": {},
   "outputs": [],
   "source": [
    "from langchain_ollama import ChatOllama\n",
    "\n",
    "\n",
    "# LLM 인스턴스(예: gpt-oss:20b) 초기화\n",
    "llm = ChatOllama(model=\"gpt-oss:20b\")"
   ]
  },
  {
   "cell_type": "code",
   "execution_count": null,
   "id": "6d01e1edd997671c",
   "metadata": {},
   "outputs": [],
   "source": [
    "from dataclasses import dataclass\n",
    "\n",
    "from langchain_core.messages import AIMessage, HumanMessage\n",
    "\n",
    "\n",
    "@dataclass(frozen=True)\n",
    "class EvalDocument:\n",
    "    eval_id: int\n",
    "    chat_history: list[HumanMessage | AIMessage]  # 마지막 질문 이전까지의 히스토리\n",
    "    question: str  # 마지막 turn의 사용자 질문\n",
    "\n",
    "\n",
    "def convert_msg_to_message(msg: dict) -> HumanMessage | AIMessage:\n",
    "    # eval.jsonl의 {role, content}를 LangChain 메시지로 매핑\n",
    "    return HumanMessage(msg[\"content\"]) if msg[\"role\"] == \"user\" else AIMessage(msg[\"content\"])\n",
    "\n",
    "\n",
    "def load_eval_documents() -> list[EvalDocument]:\n",
    "    # 평가용 대화 데이터 적재 및 구조화\n",
    "    eval_documents = []\n",
    "    for raw_document in load_from_json(EVAL_PATH):\n",
    "        msg_list = raw_document[\"msg\"]\n",
    "        eval_document = EvalDocument(\n",
    "            eval_id=raw_document[\"eval_id\"],\n",
    "            chat_history=[convert_msg_to_message(msg) for msg in msg_list[:-1]],  # 마지막 전까지\n",
    "            question=msg_list[-1][\"content\"],  # 마지막 질문\n",
    "        )\n",
    "        eval_documents.append(eval_document)\n",
    "    return eval_documents\n",
    "\n",
    "\n",
    "# 로딩 및 개수 확인\n",
    "eval_docs = load_eval_documents()\n",
    "len(eval_docs)"
   ]
  },
  {
   "cell_type": "markdown",
   "id": "f771198a1b82f6a5",
   "metadata": {},
   "source": [
    "### load 한 eval 확인\n",
    "- 특정 인덱스의 EvalDocument 구조와 데이터 확인\n"
   ]
  },
  {
   "cell_type": "code",
   "execution_count": null,
   "id": "6d8e9898e887dca5",
   "metadata": {},
   "outputs": [],
   "source": [
    "# 예시로 세 번째 항목 출력\n",
    "eval_docs[2]"
   ]
  },
  {
   "cell_type": "markdown",
   "id": "bc7ec508ff8a18cf",
   "metadata": {},
   "source": [
    "## 5. 과학 상식과 관련된 내용인지 아닌지 llm 으로 확인\n",
    "- System 프롬프트로 역할/출력 형식 지정(Yes/No)\n",
    "- 대화 히스토리 + 질문을 입력하여 과학 상식 관련성 판정 체인 구성\n",
    "- 간단 샘플에 대해 체인 실행 결과 확인\n"
   ]
  },
  {
   "cell_type": "code",
   "execution_count": null,
   "id": "1183a2003e77807a",
   "metadata": {},
   "outputs": [],
   "source": [
    "from langchain_core.prompts import ChatPromptTemplate, MessagesPlaceholder\n",
    "\n",
    "\n",
    "# 과학 상식 판별용 시스템 프롬프트(Yes/No)\n",
    "system_prompt = [\n",
    "    \"## Role\",\n",
    "    \"당신은 질문이 과학 상식과 관련이 있는지 없는지를 판별하는 판별가입니다.\",\n",
    "    \"## Instruction지금까지의 대화 내용을 보고 과학 상식에 대한 질문인지 답하세요.\",\n",
    "    \"## Output Format\",\n",
    "    \"- Yes: 과학 상식 질문일 때\",\n",
    "    \"- No: 일반 대화 일 때\",\n",
    "    \"## 지금까지 대화 내용\",\n",
    "]\n",
    "\n",
    "# 템플릿: 히스토리 + 사용자 질문\n",
    "determinator_template = ChatPromptTemplate.from_messages(\n",
    "    [(\"system\", system_prompt), MessagesPlaceholder(\"history\"), (\"user\", \"{question}\")]\n",
    ")\n",
    "determinator_template"
   ]
  },
  {
   "cell_type": "code",
   "execution_count": null,
   "id": "f1cbd6d345521217",
   "metadata": {},
   "outputs": [],
   "source": [
    "# 템플릿이 올바르게 메시지를 구성하는지 간단 점검\n",
    "determinator_template.invoke(\n",
    "    {\n",
    "        \"history\": eval_docs[0].chat_history,\n",
    "        \"question\": eval_docs[0].question,\n",
    "    }\n",
    ")"
   ]
  },
  {
   "cell_type": "code",
   "execution_count": null,
   "id": "9a82049b83efc849",
   "metadata": {},
   "outputs": [],
   "source": [
    "from langchain_core.output_parsers import StrOutputParser\n",
    "\n",
    "\n",
    "# 체인 구성: 프롬프트 → LLM → 문자열 파서\n",
    "determinator_chain = determinator_template | llm | StrOutputParser()\n",
    "\n",
    "# 샘플 실행\n",
    "determinator_chain.invoke(\n",
    "    {\n",
    "        \"history\": eval_docs[0].chat_history,\n",
    "        \"question\": eval_docs[0].question,\n",
    "    }\n",
    ")"
   ]
  },
  {
   "cell_type": "code",
   "id": "ac3fb126f6078819",
   "metadata": {
    "ExecuteTime": {
     "end_time": "2025-09-12T05:34:17.463642Z",
     "start_time": "2025-09-12T05:34:15.995438Z"
    }
   },
   "source": [
    "# 다른 샘플에 대해서도 판별 결과 확인\n",
    "print(\"대화 내용:\")\n",
    "print(\"    \", eval_docs[2].chat_history)\n",
    "print(\"질문:\", eval_docs[2].question)\n",
    "print(\"과학 상식과 관련된 내용인가?\")\n",
    "determinator_chain.invoke(\n",
    "    {\n",
    "        \"history\": eval_docs[2].chat_history,\n",
    "        \"question\": eval_docs[2].question,\n",
    "    }\n",
    ")"
   ],
   "outputs": [
    {
     "name": "stdout",
     "output_type": "stream",
     "text": [
      "대화 내용:\n",
      "     [HumanMessage(content='기억 상실증 걸리면 너무 무섭겠다.', additional_kwargs={}, response_metadata={}), AIMessage(content='네 맞습니다.', additional_kwargs={}, response_metadata={})]\n",
      "질문: 어떤 원인 때문에 발생하는지 궁금해.\n",
      "과학 상식과 관련된 내용인가?\n"
     ]
    },
    {
     "data": {
      "text/plain": [
       "'Yes'"
      ]
     },
     "execution_count": 17,
     "metadata": {},
     "output_type": "execute_result"
    }
   ],
   "execution_count": 17
  },
  {
   "cell_type": "code",
   "id": "307b7159b3790185",
   "metadata": {
    "ExecuteTime": {
     "end_time": "2025-09-12T05:34:19.647358Z",
     "start_time": "2025-09-12T05:34:17.482990Z"
    }
   },
   "source": [
    "print(\"대화 내용:\")\n",
    "print(\"    \", eval_docs[3].chat_history)\n",
    "print(\"질문:\", eval_docs[3].question)\n",
    "print(\"과학 상식과 관련된 내용인가?\")\n",
    "determinator_chain.invoke(\n",
    "    {\n",
    "        \"history\": eval_docs[3].chat_history,\n",
    "        \"question\": eval_docs[3].question,\n",
    "    }\n",
    ")"
   ],
   "outputs": [
    {
     "name": "stdout",
     "output_type": "stream",
     "text": [
      "대화 내용:\n",
      "     []\n",
      "질문: 통학 버스의 가치에 대해 말해줘.\n",
      "과학 상식과 관련된 내용인가?\n"
     ]
    },
    {
     "data": {
      "text/plain": [
       "'No'"
      ]
     },
     "execution_count": 18,
     "metadata": {},
     "output_type": "execute_result"
    }
   ],
   "execution_count": 18
  },
  {
   "cell_type": "markdown",
   "id": "71e2630ceca0f558",
   "metadata": {},
   "source": [
    "## 6. Standalone Query 뽑기\n",
    "- 대화 맥락을 반영해 검색 최적화된 독립 질의로 재작성\n",
    "- 규칙: 맥락 보완, 핵심어 포함, 검색 친화 키워드 포함\n",
    "- 체인: 프롬프트 → LLM → 문자열 파서\n"
   ]
  },
  {
   "cell_type": "code",
   "id": "653ee302ad8fab90",
   "metadata": {
    "ExecuteTime": {
     "end_time": "2025-09-12T05:34:19.671518Z",
     "start_time": "2025-09-12T05:34:19.668431Z"
    }
   },
   "source": [
    "standalone_q_system = [\n",
    "    \"## Role\",\n",
    "    \"당신은 최적의 검색 키워드 생성기 입니다.\",\n",
    "    \"## Instruction\",\n",
    "    \"지금까지의 대화 내용을 바탕으로, 문서 검색에 적합한 독립적인 쿼리를 생성해주세요.\",\n",
    "    \"## Generation Rule\",\n",
    "    \"1. 대화 맥락을 참고하여 완전한 질문으로 변환\",\n",
    "    \"3. 핵심 단어를 포함하여 변환\",\n",
    "    \"2. 검색에 최적화된 키워드 포함\",\n",
    "    \"## Example\",\n",
    "    \"입력: '피임약 괜찮아?\",\n",
    "    \"출력: '피임약의 정의, 효과, 부작용 및 사용법에 대해서 알려줘\",\n",
    "]\n",
    "standalone_query_prompt = ChatPromptTemplate.from_messages(\n",
    "    [(\"system\", standalone_q_system), MessagesPlaceholder(\"history\"), (\"user\", \"{question}\")]\n",
    ")\n",
    "standalone_query_prompt"
   ],
   "outputs": [
    {
     "data": {
      "text/plain": [
       "ChatPromptTemplate(input_variables=['history', 'question'], input_types={'history': list[typing.Annotated[typing.Union[typing.Annotated[langchain_core.messages.ai.AIMessage, Tag(tag='ai')], typing.Annotated[langchain_core.messages.human.HumanMessage, Tag(tag='human')], typing.Annotated[langchain_core.messages.chat.ChatMessage, Tag(tag='chat')], typing.Annotated[langchain_core.messages.system.SystemMessage, Tag(tag='system')], typing.Annotated[langchain_core.messages.function.FunctionMessage, Tag(tag='function')], typing.Annotated[langchain_core.messages.tool.ToolMessage, Tag(tag='tool')], typing.Annotated[langchain_core.messages.ai.AIMessageChunk, Tag(tag='AIMessageChunk')], typing.Annotated[langchain_core.messages.human.HumanMessageChunk, Tag(tag='HumanMessageChunk')], typing.Annotated[langchain_core.messages.chat.ChatMessageChunk, Tag(tag='ChatMessageChunk')], typing.Annotated[langchain_core.messages.system.SystemMessageChunk, Tag(tag='SystemMessageChunk')], typing.Annotated[langchain_core.messages.function.FunctionMessageChunk, Tag(tag='FunctionMessageChunk')], typing.Annotated[langchain_core.messages.tool.ToolMessageChunk, Tag(tag='ToolMessageChunk')]], FieldInfo(annotation=NoneType, required=True, discriminator=Discriminator(discriminator=<function _get_type at 0x1127d71a0>, custom_error_type=None, custom_error_message=None, custom_error_context=None))]]}, partial_variables={}, messages=[SystemMessagePromptTemplate(prompt=[PromptTemplate(input_variables=[], input_types={}, partial_variables={}, template='## Role'), PromptTemplate(input_variables=[], input_types={}, partial_variables={}, template='당신은 최적의 검색 키워드 생성기 입니다.'), PromptTemplate(input_variables=[], input_types={}, partial_variables={}, template='## Instruction'), PromptTemplate(input_variables=[], input_types={}, partial_variables={}, template='지금까지의 대화 내용을 바탕으로, 문서 검색에 적합한 독립적인 쿼리를 생성해주세요.'), PromptTemplate(input_variables=[], input_types={}, partial_variables={}, template='## Generation Rule'), PromptTemplate(input_variables=[], input_types={}, partial_variables={}, template='1. 대화 맥락을 참고하여 완전한 질문으로 변환'), PromptTemplate(input_variables=[], input_types={}, partial_variables={}, template='3. 핵심 단어를 포함하여 변환'), PromptTemplate(input_variables=[], input_types={}, partial_variables={}, template='2. 검색에 최적화된 키워드 포함'), PromptTemplate(input_variables=[], input_types={}, partial_variables={}, template='## Example'), PromptTemplate(input_variables=[], input_types={}, partial_variables={}, template=\"입력: '피임약 괜찮아?\"), PromptTemplate(input_variables=[], input_types={}, partial_variables={}, template=\"출력: '피임약의 정의, 효과, 부작용 및 사용법에 대해서 알려줘\")], additional_kwargs={}), MessagesPlaceholder(variable_name='history'), HumanMessagePromptTemplate(prompt=PromptTemplate(input_variables=['question'], input_types={}, partial_variables={}, template='{question}'), additional_kwargs={})])"
      ]
     },
     "execution_count": 19,
     "metadata": {},
     "output_type": "execute_result"
    }
   ],
   "execution_count": 19
  },
  {
   "cell_type": "code",
   "id": "aa35389884cafdd9",
   "metadata": {
    "ExecuteTime": {
     "end_time": "2025-09-12T05:34:19.684014Z",
     "start_time": "2025-09-12T05:34:19.680993Z"
    }
   },
   "source": [
    "# 템플릿 메시지 구성 점검\n",
    "standalone_query_prompt.invoke(\n",
    "    {\n",
    "        \"history\": eval_docs[0].chat_history,\n",
    "        \"question\": eval_docs[0].question,\n",
    "    }\n",
    ")"
   ],
   "outputs": [
    {
     "data": {
      "text/plain": [
       "ChatPromptValue(messages=[SystemMessage(content=[{'type': 'text', 'text': '## Role'}, {'type': 'text', 'text': '당신은 최적의 검색 키워드 생성기 입니다.'}, {'type': 'text', 'text': '## Instruction'}, {'type': 'text', 'text': '지금까지의 대화 내용을 바탕으로, 문서 검색에 적합한 독립적인 쿼리를 생성해주세요.'}, {'type': 'text', 'text': '## Generation Rule'}, {'type': 'text', 'text': '1. 대화 맥락을 참고하여 완전한 질문으로 변환'}, {'type': 'text', 'text': '3. 핵심 단어를 포함하여 변환'}, {'type': 'text', 'text': '2. 검색에 최적화된 키워드 포함'}, {'type': 'text', 'text': '## Example'}, {'type': 'text', 'text': \"입력: '피임약 괜찮아?\"}, {'type': 'text', 'text': \"출력: '피임약의 정의, 효과, 부작용 및 사용법에 대해서 알려줘\"}], additional_kwargs={}, response_metadata={}), HumanMessage(content='나무의 분류에 대해 조사해 보기 위한 방법은?', additional_kwargs={}, response_metadata={})])"
      ]
     },
     "execution_count": 20,
     "metadata": {},
     "output_type": "execute_result"
    }
   ],
   "execution_count": 20
  },
  {
   "cell_type": "code",
   "id": "1aa32020e88f83ed",
   "metadata": {
    "ExecuteTime": {
     "end_time": "2025-09-12T05:34:25.589933Z",
     "start_time": "2025-09-12T05:34:19.696523Z"
    }
   },
   "source": [
    "# 체인 구성 및 실행\n",
    "standalone_query_chain = standalone_query_prompt | llm | StrOutputParser()\n",
    "query = standalone_query_chain.invoke(\n",
    "    {\n",
    "        \"history\": eval_docs[0].chat_history,\n",
    "        \"question\": eval_docs[0].question,\n",
    "    }\n",
    ")\n",
    "query = query.strip()\n",
    "query  # 생성된 독립 질의"
   ],
   "outputs": [
    {
     "data": {
      "text/plain": [
       "'나무 분류 조사를 위한 단계별 방법과 필요한 자료는 무엇인가?'"
      ]
     },
     "execution_count": 21,
     "metadata": {},
     "output_type": "execute_result"
    }
   ],
   "execution_count": 21
  },
  {
   "cell_type": "markdown",
   "id": "674c34698a5a04bd",
   "metadata": {},
   "source": [
    "## 7. Retriever 로 연관 문서 찾기\n",
    "- 생성한 standalone query로 벡터스토어에서 유사 문서 상위 k개 검색\n",
    "- relevance score와 함께 결과 확인\n"
   ]
  },
  {
   "cell_type": "code",
   "id": "9d330d11ab7b60d",
   "metadata": {
    "ExecuteTime": {
     "end_time": "2025-09-12T05:34:25.659590Z",
     "start_time": "2025-09-12T05:34:25.613973Z"
    }
   },
   "source": [
    "top_k = 3\n",
    "results = vector_store.similarity_search_with_relevance_scores(query, k=top_k)\n",
    "len(results)  # 검색된 문서 수"
   ],
   "outputs": [
    {
     "data": {
      "text/plain": [
       "3"
      ]
     },
     "execution_count": 22,
     "metadata": {},
     "output_type": "execute_result"
    }
   ],
   "execution_count": 22
  },
  {
   "cell_type": "code",
   "id": "70bc5fb1853daba1",
   "metadata": {
    "ExecuteTime": {
     "end_time": "2025-09-12T05:34:25.671174Z",
     "start_time": "2025-09-12T05:34:25.669203Z"
    }
   },
   "source": [
    "# 1위 결과(문서와 스코어 튜플)\n",
    "print(results[0])"
   ],
   "outputs": [
    {
     "name": "stdout",
     "output_type": "stream",
     "text": [
      "(Document(id='feedf569-ac11-40d5-ae95-28cbe6d08579', metadata={'len': 512, 'doc_id': '25eee08d-e182-49a1-a921-8409df136ffb', 'chunk_id': 0, 'source': 'ko_ai2_arc__ARC_Challenge__test', 'total_chunks': 2}, page_content='노를 앞으로 젓는 데는 물과 바람의 마찰을 극복할 힘이 필요합니다. 배에 대항하는 힘을 극복하는 데 가장 도움이 되는 요소는 무엇인가요?\\n\\n배 안에서 노를 젓는 사람들의 수가 가장 도움이 되는 요소입니다. 배 안에서 노를 젓는 사람들은 물과 바람의 저항을 극복하기 위해 힘을 발휘합니다. 그들의 힘과 협력은 배를 움직이는 데 큰 영향을 미칩니다. 노를 젓는 사람들이 많을수록 더 많은 힘을 발휘할 수 있고, 따라서 물과 바람의 마찰을 극복하는 데 더 도움이 됩니다.\\n\\n또한, 노를 젓는 사람들의 기술과 경험도 중요한 요소입니다. 노를 젓는 사람들은 물과 바람의 조건을 파악하고, 적절한 기술과 전략을 사용하여 효율적으로 노를 젓습니다. 그들의 경험과 노하우는 배를 움직이는 데 큰 도움이 됩니다.\\n\\n마지막으로, 배 안에서 노를 젓는 사람들의 의지와 열정도 중요합니다. 노를 젓는 일은 힘들고 힘든 상황에서도 계속해서 노력해야 합니다. 의지와 열정이 강한 사람들은 어려움을 극복하고 목표를 달성하는 데 도움이 됩니다.'), 0.8297658653648305)\n"
     ]
    }
   ],
   "execution_count": 23
  },
  {
   "cell_type": "code",
   "id": "8708a8797a5d29c4",
   "metadata": {
    "ExecuteTime": {
     "end_time": "2025-09-12T05:34:25.681743Z",
     "start_time": "2025-09-12T05:34:25.679628Z"
    }
   },
   "source": [
    "# 2위 결과\n",
    "print(results[1])"
   ],
   "outputs": [
    {
     "name": "stdout",
     "output_type": "stream",
     "text": [
      "(Document(id='f13ea54a-0057-41e1-898d-fb03e950b039', metadata={'chunk_id': 0, 'doc_id': '4106101f-fd00-4815-abb6-50a1a5b4c201', 'source': 'ko_mmlu__conceptual_physics__validation', 'total_chunks': 1, 'len': 366}, page_content='대기압은 대기의 무게로 인해 발생합니다. 대기는 지구 주변에 존재하는 공기의 질량입니다. 지구의 중력에 의해 대기는 지구 표면을 둘러싸고 있으며, 이 대기의 무게가 대기압을 형성합니다. 대기압은 지구 표면에서의 공기의 무게로 인해 발생하며, 이는 지구의 대기권에서 높이가 올라갈수록 감소합니다. 대기압은 대기의 무게에 의해 발생하는데, 이는 대기 분자들이 지구 표면을 누르는 힘으로 작용합니다. 이러한 대기압은 우리 주변에서 매우 중요한 역할을 합니다. 대기압은 날씨, 기후, 바람, 기상 조건 등을 결정하는데 영향을 미치며, 또한 생명체들에게 산소를 공급하는 역할도 합니다. 따라서 대기압은 지구 생태계와 인간 생활에 매우 중요한 역할을 하는 것입니다.'), 0.8270985915201065)\n"
     ]
    }
   ],
   "execution_count": 24
  },
  {
   "cell_type": "code",
   "id": "de9eb959787f00ab",
   "metadata": {
    "ExecuteTime": {
     "end_time": "2025-09-12T05:34:25.692337Z",
     "start_time": "2025-09-12T05:34:25.690634Z"
    }
   },
   "source": [
    "# 3위 결과\n",
    "print(results[2])"
   ],
   "outputs": [
    {
     "name": "stdout",
     "output_type": "stream",
     "text": [
      "(Document(id='667a0efa-a314-4223-807e-e5cb4f21a911', metadata={'len': 339, 'source': 'ko_mmlu__high_school_biology__test', 'total_chunks': 1, 'chunk_id': 0, 'doc_id': 'af53bfa4-6d38-4d61-b549-d0388f9b6948'}, page_content='중립 변이가 정말로 \"중립\"이라면, 그것은 다음에 영향을 미치지 않아야 합니다. 이는 상대적 적합도에 의해 결정됩니다. 상대적 적합도는 개체의 유전자 변이가 생존과 번식에 얼마나 영향을 미치는지를 나타내는 척도입니다. 중립 변이는 개체의 생존 능력이나 번식 능력에 영향을 주지 않으며, 따라서 자연 선택에 의해 제거되지 않습니다. 이러한 중립 변이는 종의 유전적 다양성을 유지하는 데 중요한 역할을 합니다. 중립 변이는 종의 진화와 적응력을 유지하는 데 기여하며, 종 내에서의 유전적 다양성은 생존과 번식에 필수적입니다. 따라서 중립 변이는 종의 생존과 번식에 영향을 미치지 않는 중요한 유전적 요소입니다.'), 0.8179424310254937)\n"
     ]
    }
   ],
   "execution_count": 25
  },
  {
   "cell_type": "markdown",
   "id": "11c4c15fdf2646cc",
   "metadata": {},
   "source": [
    "## 8. 과학 질문 판별기와 검색 쿼리 생성기 통합하기\n",
    "- 파이프라인:\n",
    "  1) 과학 상식 여부 판정(Yes/No)\n",
    "  2) Yes라면 Standalone Query 생성 → 유사 문서 검색 → 관련 정보를 system 입력으로 답변 생성\n",
    "  3) No라면 판별용 프롬프트 기반으로 경량 답변\n",
    "- 제출 요소: eval_id, standalone_query, answer, topk(문서 id 목록), references(문서/스코어)\n"
   ]
  },
  {
   "cell_type": "code",
   "id": "d5d001eaca974a58",
   "metadata": {
    "ExecuteTime": {
     "end_time": "2025-09-12T05:35:20.404391Z",
     "start_time": "2025-09-12T05:34:25.703006Z"
    }
   },
   "source": [
    "def make_submission_element(eval_document: EvalDocument):\n",
    "    # 출력 스키마 기본값\n",
    "    element = {\n",
    "        \"eval_id\": eval_document.eval_id,\n",
    "    }\n",
    "    # 공통 입력 파라미터\n",
    "    params = {\n",
    "        \"history\": eval_document.chat_history,\n",
    "        \"question\": eval_document.question,\n",
    "    }\n",
    "    # 1) 과학 상식 여부 판정\n",
    "    answer_with_docs = determinator_chain.invoke(params)\n",
    "    if answer_with_docs == \"Yes\":\n",
    "        # 2) Standalone Query 생성\n",
    "        standalone_query = standalone_query_chain.invoke(params)\n",
    "        # 3) 관련 문서 검색\n",
    "        related_docs = vector_store.similarity_search_with_relevance_scores(standalone_query, k=top_k)\n",
    "        # 4) 관련 정보 주입하여 답변 생성\n",
    "        prompt = [\n",
    "            \"## Role\",\n",
    "            \"당신의 최고의 과학 전문가입니다.\",\n",
    "            \"## Instruction\",\n",
    "            \"주어진 추가 정보를 바탕으로 사용자의 질문에 알맞은 답을 해주세요.\",\n",
    "            \"## Additional Information\",\n",
    "            \"{information}## 사용자 질문\",\n",
    "        ]\n",
    "        template = ChatPromptTemplate.from_messages([(\"system\", prompt), (\"user\", \"{question}\")])\n",
    "        answer = (template | llm).invoke(\n",
    "            {\"information\": \"\\n\\n\".join(doc.page_content for doc, _ in related_docs), \"question\": standalone_query}\n",
    "        )\n",
    "        # 제출 요소 구성\n",
    "        element[\"standalone_query\"] = standalone_query\n",
    "        element[\"answer\"] = answer\n",
    "        element[\"topk\"] = [doc.metadata[\"doc_id\"] for doc, _ in related_docs]\n",
    "        element[\"references\"] = [{\"score\": score, \"content\": doc.page_content} for doc, score in related_docs]\n",
    "    else:\n",
    "        # 과학 상식이 아닐 경우: 히스토리를 사용한 간단 응답\n",
    "        template = ChatPromptTemplate.from_messages(\n",
    "            [(\"system\", system_prompt), MessagesPlaceholder(\"history\"), (\"user\", \"{question}\")]\n",
    "        )\n",
    "        answer = (template | llm).invoke(params)\n",
    "        element[\"standalone_query\"] = params[\"question\"]\n",
    "        element[\"answer\"] = answer\n",
    "    return element\n",
    "\n",
    "\n",
    "# 파이프라인 단건 테스트\n",
    "make_submission_element(eval_docs[0])"
   ],
   "outputs": [
    {
     "data": {
      "text/plain": [
       "{'eval_id': 78,\n",
       " 'standalone_query': '나무 분류를 조사하기 위한 구체적인 방법과 절차는 어떻게 되나요?',\n",
       " 'answer': AIMessage(content='## 나무 분류(식물분류학적 조사)를 위한 단계별 실전 가이드  \\n\\n아래 절차는 현장 조사(필드) → 실험실 분석 → 데이터베이스 구축 → 최종 분류 결론까지 한 번에 따라가면, 과학적으로 신뢰할 수 있는 나무 분류 결과를 얻을 수 있는 **표준화된 흐름**입니다.  \\n필요한 장비·소프트웨어·지식 수준은 “초급 → 중급 → 고급” 단계별로 구분해 두었습니다.\\n\\n---\\n\\n### 1. 사전 준비 (Pre‑field)\\n\\n| 단계 | 주요 내용 | 준비물/도구 | 주의 사항 |\\n|------|----------|-------------|----------|\\n| 1‑1 | **목표 설정** (예: 특정 지역, 특정 종군, 혹은 전면 조사) | 조사 설계서(연구 목적, 가설, 일정) | 연구 목적에 따라 표본 수가 달라집니다. |\\n| 1‑2 | **법적·윤리적 승인** (지자체 허가, 수목 보호구역 등) | 허가서, 수집 동의서 | 수집이 제한된 지역은 반드시 허가를 받아야 함. |\\n| 1‑3 | **자료 수집 방법론** (모집단, 표본 크기, 표본 위치 선정) | 정규화된 표본 수(예: 30개) | 무작위 추출 또는 층화 추출을 명확히 기록. |\\n| 1‑4 | **장비 체크리스트** | GPS, 전자 저울, 측정 테이프, 칼, 수집용 가방, 라벨(프린터) | 장비가 정상 동작 여부를 사전 테스트. |\\n| 1‑5 | **분류 키 및 참고 문헌 준비** | 지역 Flora, 식물 분류 책, 온라인 데이터베이스 | 최신 버전과 과거 문헌을 병행 활용. |\\n\\n> **Tip**: 지역별로 수집이 제한된 종(예: 희귀종, 보호종)은 반드시 생태조사 허가와 함께 “필수 최소 수집” 원칙을 적용합니다.\\n\\n---\\n\\n### 2. 현장 조사 (Field Work)\\n\\n| 단계 | 절차 | 기록 포인트 |\\n|------|------|------------|\\n| 2‑1 | **표본 식별 및 위치 기록** | GPS 좌표, 고도, 지형(예: 해발고도, 토양 종류), 주변 식생 | 정확한 위치 기록이 재조사 및 재현성에 필수. |\\n| 2‑2 | **표본 수집** (영양분, 재생력 평가를 위한 잎, 줄기, 뿌리) | 1–2개의 **영양상태가 양호한** 줄기 조각, 3–5개의 잎, 뿌리(가능하면) | 수집 시 잎의 가장자리, 색상, 질감 기록. |\\n| 2‑3 | **현장 기록** | 종명(가능한 경우), 성장형(가시형/숨은형), 방생 여부, 수량(숲 밀도) | 사진 촬영(전면, 측면, 잎 모양). |\\n| 2‑4 | **시료 보존** | 시료 보관용 냉장고(4\\u202f°C) 또는 70% 에탄올, 라벨(샘플 번호, 수집일) | 시료를 최대 24시간 내에 실험실로 이동. |\\n| 2‑5 | **문서화** | 현장 노트, 사진, GIS 데이터 수집 | 모든 기록을 디지털 파일로 백업(클라우드 + 물리적 미디어). |\\n\\n> **Tip**: 줄기 조각을 수집할 때는 “점근적으로 선형”(편미세구조) 부분을 우선 선택하고, 잎은 가장자리 변형이 적은 ‘중간 잎’으로 골라줍니다.\\n\\n---\\n\\n### 3. 실험실 분석\\n\\n| 구분 | 세부 항목 | 방법 | 주의 |\\n|------|-----------|------|------|\\n| 3‑1 | **형태학적(모양) 분석** | 잎: 길이, 폭, 주름, 엽맥; 줄기: 두께, 수지, 색; 껍질: 모듈·형태 | 캘리퍼스(0.01\\u202fmm) 사용. |\\n| 3‑2 | **목재 해부학** | 목재 단면(선명도, 조밀도, 세포 구조) | 전면 및 측면 단면을 마이크로토크마토그램(µCT) 또는 현미경(100–400배). |\\n| 3‑3 | **생물학적(분자) 분석** | DNA 추출(CTAB법 등) → PCR(ITS, rbcL, matK) → 시퀀싱 → BLAST 비교 | 품질(260/280 비율)과 시퀀스 정확도 검증. |\\n| 3‑4 | **통계·분석** | PCA, Cluster Analysis (R, Python) | 유사도를 수치화하여 “식물군집” 시각화. |\\n| 3‑5 | **문헌 비교** | 분류 키, 과거 시리즈(종 기록)와 대조 | 최신 분류학(APG IV, Cronquist 등)와 비교. |\\n\\n> **Tip**: 분자 데이터가 부정확하거나 짧은 경우, 보조 유전자(psbA‑trnH, trnL‑F)를 추가로 시퀀싱해 두는 것이 좋습니다.\\n\\n---\\n\\n### 4. 데이터베이스 구축 및 품질 관리\\n\\n| 내용 | 도구/시스템 | 활용 방법 |\\n|------|-------------|-----------|\\n| 4‑1 | **시료 메타데이터** | 엑셀/CSV → SQLite → 온라인 플랫폼 (e.g., GBIF, iPlant) | 표준화된 필드(“species”, “longitude”, “latitude” 등). |\\n| 4‑2 | **이미지 관리** | Google Drive, Dropbox, iNaturalist | 해상도 600\\u202fdpi 이상. |\\n| 4‑3 | **버전 관리** | GitHub(공개 저장소) | 데이터 변동 이력을 기록. |\\n| 4‑4 | **품질 점검** | 검증 체크리스트 (형태, DNA, 이미지) | 2명 이상 교차 검증(인터리뷰). |\\n\\n> **Tip**: 모든 데이터는 **FAIR 원칙**(Findable, Accessible, Interoperable, Reusable)을 준수하도록 구조화합니다.\\n\\n---\\n\\n### 5. 최종 분류 결정 & 보고서 작성\\n\\n| 단계 | 내용 | 핵심 요소 |\\n|------|------|-----------|\\n| 5‑1 | **종 명명(식명)** | Nomenclatural 규칙(ICN, Code of Nomenclature) | 종명은 공식 문헌에 등록(예: NCBI Taxonomy). |\\n| 5‑2 | **분류 결론** | 형태학 + DNA + 환경 특성 | 종별 차이점 및 유사점 요약. |\\n| 5‑3 | **보고서** | 서론, 방법, 결과, 토론, 결론 | 표·그래프(phylogenetic tree, PCA plot) 포함. |\\n| 5‑4 | **발표** | 학회 발표, 논문(국제/국내 학술지), 공개 데이터베이스 | DOI 등록, ORCID 연계. |\\n\\n> **Tip**: 최종 보고서 초안은 내부 리뷰(피어 리뷰)를 거치고, ‘시행착오’와 ‘비정상 데이터’에 대한 설명을 충분히 제공하면 투고 시 긍정적 평가를 받을 확률이 높아집니다.\\n\\n---\\n\\n## 핵심 팁 요약\\n\\n| 상황 | 해결 방안 |\\n|------|-----------|\\n| **분류가 어렵거나 모호한 경우** | **다중 유전자 분석**(ITS+cpDNA) + **목재 해부학**으로 차별화. |\\n| **시료 손상** | 시료 보존(70% 에탄올) + **신속 이동**(최소 12\\u202fh) 필요. |\\n| **GPS 좌표 오차** | **구글 스트리트 뷰**로 현장 사진 매핑 후 좌표 재검증. |\\n| **문헌 업데이트** | **플로라(Flora)** 최신 버전과 **Open Tree of Life** 데이터베이스 동시 사용. |\\n| **정신적·신체적 피로** | **협력 체계** 구축(연구원, 현장 보조, 지역 가이드) + **정기 휴식** 일정. |\\n\\n---\\n\\n### 필요 장비 예산(중간 규모)\\n\\n| 항목 | 개수 | 단가(USD) | 총액 |\\n|------|------|-----------|------|\\n| GPS (고정밀) | 1 | 1,000 | 1,000 |\\n| 전자 저울 | 1 | 200 | 200 |\\n| 측정 테이프, 캘리퍼스 | 1 | 50 | 50 |\\n| 샘플 보관용 냉장고 | 1 | 1,200 | 1,200 |\\n| 현미경(100–400배) | 1 | 800 | 800 |\\n| DNA 추출 키트 | 1 | 300 | 300 |\\n| PCR 기계 (작은 규모) | 1 | 3,000 | 3,000 |\\n| 시퀀싱 비용(예: 10 시료) | 10 | 150 | 1,500 |\\n| **총합** | | | **8,050** |\\n\\n> 예산은 현장 위치, 현장 인원 수, 시료 수에 따라 크게 변동됩니다.  \\n\\n---\\n\\n**마무리**  \\n이 가이드는 “현장 수집 → 실험실 분석 → 데이터베이스 → 분류 결론”이라는 과학적 흐름을 체계화한 것입니다.  \\n현장 조사 시 환경적·법적 제약을 준수하고, 실험실 단계에서는 데이터 품질을 최우선으로 생각하면, 나무 분류 결과가 신뢰할 수 있는 과학적 기여로 이어집니다.  \\n\\n필요하신 부분이 더 있으면 언제든 물어보세요!', additional_kwargs={}, response_metadata={'model': 'gpt-oss:20b', 'created_at': '2025-09-12T05:35:20.398516Z', 'done': True, 'done_reason': 'stop', 'total_duration': 46566177041, 'load_duration': 70811875, 'prompt_eval_count': 987, 'prompt_eval_duration': 1230582834, 'eval_count': 2505, 'eval_duration': 45261146375, 'model_name': 'gpt-oss:20b'}, id='run--954052e3-7340-4617-89bb-96c340f6ee20-0', usage_metadata={'input_tokens': 987, 'output_tokens': 2505, 'total_tokens': 3492}),\n",
       " 'topk': ['25eee08d-e182-49a1-a921-8409df136ffb',\n",
       "  '864ee7c7-d97a-4c8e-81ce-d779f84e2f45',\n",
       "  '56de6a81-ac1c-4581-87e5-5a2d0e80be2c'],\n",
       " 'references': [{'score': 0.8222236657503817,\n",
       "   'content': '노를 앞으로 젓는 데는 물과 바람의 마찰을 극복할 힘이 필요합니다. 배에 대항하는 힘을 극복하는 데 가장 도움이 되는 요소는 무엇인가요?\\n\\n배 안에서 노를 젓는 사람들의 수가 가장 도움이 되는 요소입니다. 배 안에서 노를 젓는 사람들은 물과 바람의 저항을 극복하기 위해 힘을 발휘합니다. 그들의 힘과 협력은 배를 움직이는 데 큰 영향을 미칩니다. 노를 젓는 사람들이 많을수록 더 많은 힘을 발휘할 수 있고, 따라서 물과 바람의 마찰을 극복하는 데 더 도움이 됩니다.\\n\\n또한, 노를 젓는 사람들의 기술과 경험도 중요한 요소입니다. 노를 젓는 사람들은 물과 바람의 조건을 파악하고, 적절한 기술과 전략을 사용하여 효율적으로 노를 젓습니다. 그들의 경험과 노하우는 배를 움직이는 데 큰 도움이 됩니다.\\n\\n마지막으로, 배 안에서 노를 젓는 사람들의 의지와 열정도 중요합니다. 노를 젓는 일은 힘들고 힘든 상황에서도 계속해서 노력해야 합니다. 의지와 열정이 강한 사람들은 어려움을 극복하고 목표를 달성하는 데 도움이 됩니다.'},\n",
       "  {'score': 0.8210199306834863,\n",
       "   'content': '뱀과 달리 새는 온혈 동물이며 일정한 온도를 유지하기 위해 먹이를 섭취해야 합니다. 추운 날 뱀은 대체로 움직이지 않고 거의 또는 전혀 먹지 않는 반면, 새는 주로 움직이면서 많은 양의 먹이를 섭취합니다. 이는 뱀과 새의 생리적 차이 때문입니다. 뱀은 냉혈 동물로서 외부 온도에 크게 영향을 받지 않습니다. 따라서 추운 날씨에는 에너지 소비를 줄이기 위해 움직임을 최소화하고 먹이를 섭취하지 않습니다. 반면, 새는 온통 동물로서 일정한 체온을 유지하기 위해 먹이를 섭취해야 합니다. 따라서 추운 날씨에도 새는 움직이면서 많은 양의 먹이를 섭취합니다. 이러한 특성은 뱀과 새의 생존 전략과 관련이 있습니다. 뱀은 에너지 소비를 최소화하여 오랜 기간 동안 굶어도 살아남을 수 있습니다. 반면, 새는 움직이면서 많은 양의 먹이를 섭취하여 에너지를 보충하고 체온을 유지합니다. 이러한 차이는 뱀과 새의 생태적 역할과 생태계 내에서의 위치에 영향을 미칩니다. 뱀은 주로 포식자로서 다른 동물을 먹이로 삼아 생태계의 균형을'},\n",
       "  {'score': 0.820593973559011,\n",
       "   'content': '모형 비행기는 바람을 맞으며 날 때 더 느리게 날고, 바람이 뒤에서 불 때 더 빠르게 날아간다. 이는 공기 저항과 바람의 힘에 의해 결정된다. 바람을 맞으며 날 때, 비행기는 바람과 마주치기 때문에 공기 저항이 증가하고, 따라서 더 느리게 날아간다. 반대로, 바람이 뒤에서 불 때, 비행기는 바람에 도움을 받아 공기 저항이 감소하고, 따라서 더 빠르게 날아간다. 그러나 바람에 직각으로 발사될 때, 즉 옆바람이 부는 상황에서는 대지 속도가 정체 공기에서 날아갈 때와 비교하여 더 크다. 이는 바람의 힘과 비행기의 날개 형태에 의해 결정된다. 옆바람이 부는 상황에서 비행기는 바람의 힘을 받아 옆으로 밀리게 되는데, 이로 인해 비행기는 대지 속도를 더욱 증가시킬 수 있다. 따라서, 옆바람이 부는 상황에서 비행기의 대지 속도는 정체 공기에서 날아갈 때와 비교하여 더 크다.'}]}"
      ]
     },
     "execution_count": 26,
     "metadata": {},
     "output_type": "execute_result"
    }
   ],
   "execution_count": 26
  }
 ],
 "metadata": {
  "kernelspec": {
   "display_name": "Python 3 (ipykernel)",
   "language": "python",
   "name": "python3"
  }
 },
 "nbformat": 4,
 "nbformat_minor": 5
}
